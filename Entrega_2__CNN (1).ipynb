{
  "nbformat": 4,
  "nbformat_minor": 0,
  "metadata": {
    "colab": {
      "provenance": []
    },
    "kernelspec": {
      "name": "python3",
      "display_name": "Python 3"
    }
  },
  "cells": [
    {
      "cell_type": "markdown",
      "metadata": {
        "id": "mX8gZlVyCCbz"
      },
      "source": [
        "## Convolutional Neural Networks\n",
        "\n",
        "En esta actividad, vamos a trabajar con Convolutional Neural Networks para resolver un problema de clasificación de imágenes. En particular, vamos a clasificar imágenes de personajes de la conocida serie de los Simpsons.\n",
        "\n",
        "Como las CNN profundas son un tipo de modelo bastante avanzado y computacionalmente costoso, se recomienda hacer la práctica en Google Colaboratory con soporte para GPUs. En [este enlace](https://medium.com/deep-learning-turkey/google-colab-free-gpu-tutorial-e113627b9f5d) se explica cómo activar un entorno con GPUs. *Nota: para leer las imágenes y estandarizarlas al mismo tamaño se usa la librería opencv. Esta ĺibrería está ya instalada en el entorno de Colab, pero si trabajáis de manera local tendréis que instalarla.*\n",
        "\n",
        "<center><img src=\"https://i.imgur.com/i8zIGqX.jpg\" style=\"text-align: center\" height=\"300px\"></center>\n",
        "\n",
        "El dataset a utilizar consiste en imágenes de personajes de los Simpsons extraídas directamente de capítulos de la serie. Este dataset ha sido recopilado por [Alexandre Attia](https://medium.com/@alexattia18) y es más complejo que el dataset de Fashion MNIST que hemos utilizado hasta ahora. Aparte de tener más clases (vamos a utilizar los 18 personajes con más imágenes), los personajes pueden aparecer en distintas poses, en distintas posiciones de la imagen o con otros personajes en pantalla (si bien el personaje a clasificar siempre aparece en la posición predominante).\n",
        "\n",
        "El dataset de training puede ser descargado desde aquí:\n",
        "\n",
        "[Training data](https://drive.google.com/drive/folders/171GKxRx2SCjLfcfYSPbIa1HzpR6ha3-s?usp=sharing) (~500MB)\n",
        "\n",
        "Por otro lado, el dataset de test puede ser descargado de aquí:\n",
        "\n",
        "[Test data](https://drive.google.com/drive/folders/1B4L6Pk1x9cbfvbP1uQTBSD959_n3QdvL?usp=sharing) (~10MB)\n",
        "\n",
        "Antes de empezar la práctica, se recomienda descargar las imágenes y echarlas un vistazo.\n",
        "\n",
        "Todo el dataset en un solo enlace([Enlace_descarga_completo](https://drive.google.com/file/d/1DeToSr-V_BJn3FTRD40J2HvlB8BNP_La/view?usp=sharing))\n"
      ]
    },
    {
      "cell_type": "markdown",
      "metadata": {
        "id": "QI274F8LQC59"
      },
      "source": [
        "## Carga de los datos"
      ]
    },
    {
      "cell_type": "code",
      "source": [
        "from google.colab.patches import cv2_imshow\n",
        "import cv2\n",
        "import os\n",
        "import numpy as np\n",
        "import tensorflow as tf\n",
        "from tensorflow.keras import layers, Model\n",
        "from tensorflow.keras.preprocessing.image import ImageDataGenerator\n",
        "from tensorflow.keras.layers import Conv2D\n",
        "import matplotlib.pyplot as plt\n",
        "import pandas as pd\n",
        "from keras.models import Sequential\n",
        "from keras.layers import Dense, Activation, Dropout, Flatten, BatchNormalization, MaxPooling2D\n",
        "from keras.optimizers import Adam, SGD\n",
        "from sklearn.metrics import confusion_matrix\n",
        "from sklearn import metrics\n",
        "import itertools\n",
        "import glob\n",
        "%matplotlib inline\n",
        "\n",
        "# Crear directorios base\n",
        "!mkdir -p /content/simpsons\n",
        "\n",
        "# Descargar el archivo del dataset\n",
        "!gdown 1DeToSr-V_BJn3FTRD40J2HvlB8BNP_La -O /content/archive.zip\n",
        "\n",
        "# Descomprimir el archivo ZIP\n",
        "!unzip -q /content/archive.zip -d /content/simpsons\n",
        "\n",
        "# Verificar la estructura extraída\n",
        "print(\"Estructura de carpetas extraídas:\")\n",
        "!ls -la /content/simpsons\n",
        "\n",
        "# Según las imágenes proporcionadas, configuramos las rutas correctas\n",
        "# Carpetas de entrenamiento y prueba según tu estructura\n",
        "DATASET_TRAIN_PATH = \"/content/simpsons/simpsons_dataset\"\n",
        "DATASET_TEST_PATH = \"/content/simpsons/kaggle_simpson_testset\"\n",
        "\n",
        "# Verificar que las carpetas existen\n",
        "print(f\"\\nCarpeta de entrenamiento existe: {os.path.exists(DATASET_TRAIN_PATH)}\")\n",
        "print(f\"Carpeta de prueba existe: {os.path.exists(DATASET_TEST_PATH)}\")\n",
        "\n",
        "# Contar personajes y mostrar estadísticas si las carpetas existen\n",
        "if os.path.exists(DATASET_TRAIN_PATH):\n",
        "    # Comprobar si hay subcarpetas (personajes)\n",
        "    if any(os.path.isdir(os.path.join(DATASET_TRAIN_PATH, f)) for f in os.listdir(DATASET_TRAIN_PATH)):\n",
        "        train_classes = [d for d in os.listdir(DATASET_TRAIN_PATH) if os.path.isdir(os.path.join(DATASET_TRAIN_PATH, d))]\n",
        "        print(f\"\\nNúmero de personajes en el dataset de entrenamiento: {len(train_classes)}\")\n",
        "        print(f\"Ejemplos de personajes: {train_classes[:5]}\")\n",
        "\n",
        "        # Contar imágenes por personaje\n",
        "        train_images_count = {}\n",
        "        total_train_images = 0\n",
        "\n",
        "        for character in train_classes:\n",
        "            char_path = os.path.join(DATASET_TRAIN_PATH, character)\n",
        "            images = [f for f in os.listdir(char_path) if f.lower().endswith(('.png', '.jpg', '.jpeg'))]\n",
        "            train_images_count[character] = len(images)\n",
        "            total_train_images += len(images)\n",
        "\n",
        "        print(f\"Total de imágenes de entrenamiento: {total_train_images}\")\n",
        "        print(\"\\nPersonajes con más imágenes:\")\n",
        "        for char, count in sorted(train_images_count.items(), key=lambda x: x[1], reverse=True)[:5]:\n",
        "            print(f\"{char}: {count} imágenes\")\n",
        "    else:\n",
        "        print(\"La carpeta de entrenamiento no parece contener subdirectorios de personajes.\")\n",
        "        print(\"Contenido de la carpeta de entrenamiento:\")\n",
        "        !ls -la {DATASET_TRAIN_PATH}\n",
        "\n",
        "if os.path.exists(DATASET_TEST_PATH):\n",
        "    # Comprobar si hay subcarpetas (personajes) o si es una estructura plana\n",
        "    if any(os.path.isdir(os.path.join(DATASET_TEST_PATH, f)) for f in os.listdir(DATASET_TEST_PATH)):\n",
        "        test_classes = [d for d in os.listdir(DATASET_TEST_PATH) if os.path.isdir(os.path.join(DATASET_TEST_PATH, d))]\n",
        "        print(f\"\\nNúmero de personajes en el dataset de prueba: {len(test_classes)}\")\n",
        "        print(f\"Ejemplos de personajes: {test_classes[:5]}\")\n",
        "\n",
        "        # Contar imágenes totales en prueba\n",
        "        test_images = 0\n",
        "        for cls in test_classes:\n",
        "            test_images += len(os.listdir(os.path.join(DATASET_TEST_PATH, cls)))\n",
        "        print(f\"Total de imágenes de prueba: {test_images}\")\n",
        "    else:\n",
        "        # Si no hay subcarpetas, contar directamente las imágenes\n",
        "        test_images = [f for f in os.listdir(DATASET_TEST_PATH) if f.lower().endswith(('.png', '.jpg', '.jpeg'))]\n",
        "        print(f\"\\nTotal de imágenes de prueba: {len(test_images)}\")\n",
        "\n",
        "# Ahora puedes continuar con tu código para el modelo de clasificación\n",
        "print(\"\\nConfiguración completa. Puedes proceder con el entrenamiento del modelo.\")"
      ],
      "metadata": {
        "colab": {
          "base_uri": "https://localhost:8080/"
        },
        "collapsed": true,
        "id": "nOvIVGsKcEte",
        "outputId": "2f2aa148-b68e-44f2-c952-e094148ac2e0"
      },
      "execution_count": 1,
      "outputs": [
        {
          "output_type": "stream",
          "name": "stdout",
          "text": [
            "Downloading...\n",
            "From (original): https://drive.google.com/uc?id=1DeToSr-V_BJn3FTRD40J2HvlB8BNP_La\n",
            "From (redirected): https://drive.google.com/uc?id=1DeToSr-V_BJn3FTRD40J2HvlB8BNP_La&confirm=t&uuid=cd156c91-7103-4357-bbf6-bdbc13872199\n",
            "To: /content/archive.zip\n",
            "100% 1.16G/1.16G [00:16<00:00, 68.5MB/s]\n",
            "Estructura de carpetas extraídas:\n",
            "total 81304\n",
            "drwxr-xr-x  4 root root     4096 May  2 15:22 .\n",
            "drwxr-xr-x  1 root root     4096 May  2 15:22 ..\n",
            "-rw-r--r--  1 root root   491788 Sep 20  2019 annotation.txt\n",
            "-rw-r--r--  1 root root   598494 Sep 20  2019 characters_illustration.png\n",
            "drwxr-xr-x  3 root root     4096 May  2 15:22 kaggle_simpson_testset\n",
            "-rw-r--r--  1 root root     1452 Sep 20  2019 number_pic_char.csv\n",
            "drwxr-xr-x 45 root root     4096 May  2 15:22 simpsons_dataset\n",
            "-rw-r--r--  1 root root 82136544 Sep 20  2019 weights.best.hdf5\n",
            "\n",
            "Carpeta de entrenamiento existe: True\n",
            "Carpeta de prueba existe: True\n",
            "\n",
            "Número de personajes en el dataset de entrenamiento: 43\n",
            "Ejemplos de personajes: ['krusty_the_clown', 'cletus_spuckler', 'miss_hoover', 'troy_mcclure', 'lisa_simpson']\n",
            "Total de imágenes de entrenamiento: 20933\n",
            "\n",
            "Personajes con más imágenes:\n",
            "homer_simpson: 2246 imágenes\n",
            "ned_flanders: 1454 imágenes\n",
            "moe_szyslak: 1452 imágenes\n",
            "lisa_simpson: 1354 imágenes\n",
            "bart_simpson: 1342 imágenes\n",
            "\n",
            "Número de personajes en el dataset de prueba: 1\n",
            "Ejemplos de personajes: ['kaggle_simpson_testset']\n",
            "Total de imágenes de prueba: 990\n",
            "\n",
            "Configuración completa. Puedes proceder con el entrenamiento del modelo.\n"
          ]
        }
      ]
    },
    {
      "cell_type": "code",
      "metadata": {
        "id": "hMFhe3COFwSD"
      },
      "source": [
        "# Esta variable contiene un mapeo de número de clase a personaje.\n",
        "# Utilizamos sólo los 18 personajes del dataset que tienen más imágenes.\n",
        "MAP_CHARACTERS = {\n",
        "    0: 'abraham_grampa_simpson', 1: 'apu_nahasapeemapetilon', 2: 'bart_simpson',\n",
        "    3: 'charles_montgomery_burns', 4: 'chief_wiggum', 5: 'comic_book_guy', 6: 'edna_krabappel',\n",
        "    7: 'homer_simpson', 8: 'kent_brockman', 9: 'krusty_the_clown', 10: 'lisa_simpson',\n",
        "    11: 'marge_simpson', 12: 'milhouse_van_houten', 13: 'moe_szyslak',\n",
        "    14: 'ned_flanders', 15: 'nelson_muntz', 16: 'principal_skinner', 17: 'sideshow_bob'\n",
        "}\n",
        "\n",
        "# Vamos a standarizar todas las imágenes a tamaño 64x64\n",
        "IMG_SIZE = 64"
      ],
      "execution_count": 2,
      "outputs": []
    },
    {
      "cell_type": "code",
      "metadata": {
        "id": "5bJ0NsbCbupF"
      },
      "source": [
        "def load_train_set(dirname, map_characters, verbose=True):\n",
        "    \"\"\"Esta función carga los datos de training en imágenes.\n",
        "\n",
        "    Como las imágenes tienen tamaños distintas, utilizamos la librería opencv\n",
        "    para hacer un resize y adaptarlas todas a tamaño IMG_SIZE x IMG_SIZE.\n",
        "\n",
        "    Args:\n",
        "        dirname: directorio completo del que leer los datos\n",
        "        map_characters: variable de mapeo entre labels y personajes\n",
        "        verbose: si es True, muestra información de las imágenes cargadas\n",
        "\n",
        "    Returns:\n",
        "        X, y: X es un array con todas las imágenes cargadas con tamaño\n",
        "                IMG_SIZE x IMG_SIZE\n",
        "              y es un array con las labels de correspondientes a cada imagen\n",
        "    \"\"\"\n",
        "    X_train = []\n",
        "    y_train = []\n",
        "    for label, character in map_characters.items():\n",
        "        files = os.listdir(os.path.join(dirname, character))\n",
        "        images = [file for file in files if file.endswith(\"jpg\")]\n",
        "        if verbose:\n",
        "          print(\"Leyendo {} imágenes encontradas de {}\".format(len(images), character))\n",
        "        for image_name in images:\n",
        "            image = cv2.imread(os.path.join(dirname, character, image_name))\n",
        "            X_train.append(cv2.resize(image,(IMG_SIZE, IMG_SIZE)))\n",
        "            y_train.append(label)\n",
        "    return np.array(X_train), np.array(y_train)"
      ],
      "execution_count": 3,
      "outputs": []
    },
    {
      "cell_type": "code",
      "metadata": {
        "id": "NslxhnnDK6uA"
      },
      "source": [
        "def load_test_set(dirname, map_characters, verbose=True):\n",
        "    \"\"\"Esta función funciona de manera equivalente a la función load_train_set\n",
        "    pero cargando los datos de test.\"\"\"\n",
        "    X_test = []\n",
        "    y_test = []\n",
        "    reverse_dict = {v: k for k, v in map_characters.items()}\n",
        "    for filename in glob.glob(dirname + '/*.*'):\n",
        "        char_name = \"_\".join(filename.split('/')[-1].split('_')[:-1])\n",
        "        if char_name in reverse_dict:\n",
        "            image = cv2.imread(filename)\n",
        "            image = cv2.resize(image, (IMG_SIZE, IMG_SIZE))\n",
        "            X_test.append(image)\n",
        "            y_test.append(reverse_dict[char_name])\n",
        "    if verbose:\n",
        "        print(\"Leídas {} imágenes de test\".format(len(X_test)))\n",
        "    return np.array(X_test), np.array(y_test)\n"
      ],
      "execution_count": 4,
      "outputs": []
    },
    {
      "cell_type": "code",
      "metadata": {
        "id": "WVWqKxFcbwTu",
        "outputId": "51faa20c-f3b7-40fc-c433-85cba10ae5dd",
        "colab": {
          "base_uri": "https://localhost:8080/"
        }
      },
      "source": [
        "# Cargamos los datos. Si no estás trabajando en colab, cambia los paths por\n",
        "# los de los ficheros donde hayas descargado los datos.\n",
        "DATASET_TRAIN_PATH_COLAB = \"/content/simpsons/simpsons_dataset\"\n",
        "DATASET_TEST_PATH_COLAB = \"/content/simpsons/kaggle_simpson_testset/kaggle_simpson_testset\"\n",
        "\n",
        "X, y = load_train_set(DATASET_TRAIN_PATH_COLAB, MAP_CHARACTERS)\n",
        "X_t, y_t = load_test_set(DATASET_TEST_PATH_COLAB, MAP_CHARACTERS)"
      ],
      "execution_count": 7,
      "outputs": [
        {
          "output_type": "stream",
          "name": "stdout",
          "text": [
            "Leyendo 913 imágenes encontradas de abraham_grampa_simpson\n",
            "Leyendo 623 imágenes encontradas de apu_nahasapeemapetilon\n",
            "Leyendo 1342 imágenes encontradas de bart_simpson\n",
            "Leyendo 1193 imágenes encontradas de charles_montgomery_burns\n",
            "Leyendo 986 imágenes encontradas de chief_wiggum\n",
            "Leyendo 469 imágenes encontradas de comic_book_guy\n",
            "Leyendo 457 imágenes encontradas de edna_krabappel\n",
            "Leyendo 2246 imágenes encontradas de homer_simpson\n",
            "Leyendo 498 imágenes encontradas de kent_brockman\n",
            "Leyendo 1206 imágenes encontradas de krusty_the_clown\n",
            "Leyendo 1354 imágenes encontradas de lisa_simpson\n",
            "Leyendo 1291 imágenes encontradas de marge_simpson\n",
            "Leyendo 1079 imágenes encontradas de milhouse_van_houten\n",
            "Leyendo 1452 imágenes encontradas de moe_szyslak\n",
            "Leyendo 1454 imágenes encontradas de ned_flanders\n",
            "Leyendo 358 imágenes encontradas de nelson_muntz\n",
            "Leyendo 1194 imágenes encontradas de principal_skinner\n",
            "Leyendo 877 imágenes encontradas de sideshow_bob\n",
            "Leídas 890 imágenes de test\n"
          ]
        }
      ]
    },
    {
      "cell_type": "code",
      "metadata": {
        "id": "2GY4vTFyfffv"
      },
      "source": [
        "# Vamos a barajar aleatoriamente los datos. Esto es importante ya que si no\n",
        "# lo hacemos y, por ejemplo, cogemos el 20% de los datos finales como validation\n",
        "# set, estaremos utilizando solo un pequeño número de personajes, ya que\n",
        "# las imágenes se leen secuencialmente personaje a personaje.\n",
        "perm = np.random.permutation(len(X))\n",
        "X, y = X[perm], y[perm]"
      ],
      "execution_count": 8,
      "outputs": []
    },
    {
      "cell_type": "markdown",
      "metadata": {
        "id": "pBbmz9DMhVhc"
      },
      "source": [
        "## Entregable\n",
        "\n",
        "Utilizando Convolutional Neural Networks con Keras, entrenar un clasificador que sea capaz de reconocer personajes en imágenes de los Simpsons con una accuracy en el dataset de test de **85%**. Redactar un informe analizando varias de las alternativas probadas y los resultados obtenidos.\n",
        "\n",
        "A continuación se detallan una serie de aspectos orientativos que podrían ser analizados en vuestro informe (no es necesario tratar todos ellos ni mucho menos, esto son ideas orientativas de aspectos que podéis explorar):\n",
        "\n",
        "*   Análisis de los datos a utilizar.\n",
        "*   Análisis de resultados, obtención de métricas de *precision* y *recall* por clase y análisis de qué clases obtienen mejores o peores resultados.\n",
        "*   Análisis visual de los errores de la red. ¿Qué tipo de imágenes o qué personajes dan más problemas a nuestro modelo?\n",
        "*   Comparación de modelos CNNs con un modelo de Fully Connected para este problema.\n",
        "*   Utilización de distintas arquitecturas CNNs, comentando aspectos como su profundidad, hiperparámetros utilizados, optimizador, uso de técnicas de regularización, *batch normalization*, etc.\n",
        "*   [ *algo más difícil* ] Utilización de *data augmentation*. Esto puede conseguirse con la clase [ImageDataGenerator](https://keras.io/preprocessing/image/#imagedatagenerator-class) de Keras.\n",
        "\n",
        "Notas:\n",
        "* Recuerda partir los datos en training/validation para tener una buena estimación de los valores que nuestro modelo tendrá en los datos de test, así como comprobar que no estamos cayendo en overfitting. Una posible partición puede ser 80 / 20.\n",
        "* No es necesario mostrar en el notebook las trazas de entrenamiento de todos los modelos entrenados, si bien una buena idea seria guardar gráficas de esos entrenamientos para el análisis. Sin embargo, **se debe mostrar el entrenamiento completo del mejor modelo obtenido y la evaluación de los datos de test con este modelo**.\n",
        "* Las imágenes **no están normalizadas**. Hay que normalizarlas como hemos hecho en trabajos anteriores.\n",
        "* El test set del problema tiene imágenes un poco más \"fáciles\", por lo que es posible encontrarse con métricas en el test set bastante mejores que en el training set."
      ]
    },
    {
      "cell_type": "code",
      "source": [],
      "metadata": {
        "id": "QNKJq1fDhQrE"
      },
      "execution_count": 6,
      "outputs": []
    }
  ]
}